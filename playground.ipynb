{
 "cells": [
  {
   "cell_type": "code",
   "execution_count": 9,
   "id": "050b7eea",
   "metadata": {},
   "outputs": [
    {
     "name": "stdout",
     "output_type": "stream",
     "text": [
      "The autoreload extension is already loaded. To reload it, use:\n",
      "  %reload_ext autoreload\n"
     ]
    }
   ],
   "source": [
    "%load_ext autoreload\n",
    "%autoreload 2\n"
   ]
  },
  {
   "cell_type": "code",
   "execution_count": 10,
   "id": "efeabc60",
   "metadata": {},
   "outputs": [],
   "source": [
    "from health_blockchain import *\n",
    "\n",
    "import dataclasses\n",
    "import sys"
   ]
  },
  {
   "cell_type": "code",
   "execution_count": 11,
   "id": "2c8ea689",
   "metadata": {},
   "outputs": [
    {
     "data": {
      "text/plain": [
       "Block(content_dictionary={'first_name': 'Ali', 'last_name': 'Irani', 'some_file': b'fake file'}, previous_block_hash=None, signatures=b'fake_sig')"
      ]
     },
     "execution_count": 11,
     "metadata": {},
     "output_type": "execute_result"
    }
   ],
   "source": [
    "block_1 = Block(dict(first_name=\"Ali\", last_name=\"Irani\", some_file=b\"fake file\"), None, b'fake_sig')\n",
    "block_1"
   ]
  },
  {
   "cell_type": "code",
   "execution_count": 12,
   "id": "596ee92c",
   "metadata": {},
   "outputs": [
    {
     "data": {
      "text/plain": [
       "'[\"json_dataclass_marker\", \"Block\", {\"content_dictionary\": {\"first_name\": \"Ali\", \"last_name\": \"Irani\", \"some_file\": [\"bytes_base64_encoded_marker\", \"ZmFrZSBmaWxl\"]}, \"previous_block_hash\": null, \"signatures\": [\"bytes_base64_encoded_marker\", \"ZmFrZV9zaWc=\"]}]'"
      ]
     },
     "execution_count": 12,
     "metadata": {},
     "output_type": "execute_result"
    }
   ],
   "source": [
    "block_1_bytes = block_serialize(block_1)\n",
    "block_1_bytes"
   ]
  },
  {
   "cell_type": "code",
   "execution_count": 17,
   "id": "42a2f011",
   "metadata": {},
   "outputs": [
    {
     "data": {
      "text/plain": [
       "Block(content_dictionary={'first_name': 'Ali', 'last_name': 'Irani', 'some_file': b'fake file'}, previous_block_hash=None, signatures=b'fake_sig')"
      ]
     },
     "execution_count": 17,
     "metadata": {},
     "output_type": "execute_result"
    }
   ],
   "source": [
    "block_deserialize(block_1_bytes)"
   ]
  },
  {
   "cell_type": "code",
   "execution_count": 14,
   "id": "e29f9ec0",
   "metadata": {},
   "outputs": [
    {
     "data": {
      "text/plain": [
       "'Block'"
      ]
     },
     "execution_count": 14,
     "metadata": {},
     "output_type": "execute_result"
    }
   ],
   "source": [
    "block_1.__class__.__name__"
   ]
  },
  {
   "cell_type": "code",
   "execution_count": 15,
   "id": "441e5c22",
   "metadata": {},
   "outputs": [
    {
     "data": {
      "text/plain": [
       "'__main__'"
      ]
     },
     "execution_count": 15,
     "metadata": {},
     "output_type": "execute_result"
    }
   ],
   "source": [
    "__name__"
   ]
  },
  {
   "cell_type": "code",
   "execution_count": 16,
   "id": "9e5ccef9",
   "metadata": {},
   "outputs": [
    {
     "data": {
      "text/plain": [
       "health_blockchain.block.Block"
      ]
     },
     "execution_count": 16,
     "metadata": {},
     "output_type": "execute_result"
    }
   ],
   "source": [
    "getattr(sys.modules[__name__], 'Block')"
   ]
  }
 ],
 "metadata": {
  "kernelspec": {
   "display_name": "py_310",
   "language": "python",
   "name": "py_310"
  },
  "language_info": {
   "codemirror_mode": {
    "name": "ipython",
    "version": 3
   },
   "file_extension": ".py",
   "mimetype": "text/x-python",
   "name": "python",
   "nbconvert_exporter": "python",
   "pygments_lexer": "ipython3",
   "version": "3.10.0"
  }
 },
 "nbformat": 4,
 "nbformat_minor": 5
}
