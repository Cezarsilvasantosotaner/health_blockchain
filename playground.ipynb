{
 "cells": [
  {
   "cell_type": "code",
   "execution_count": 1,
   "id": "050b7eea",
   "metadata": {},
   "outputs": [],
   "source": [
    "%load_ext autoreload\n",
    "%autoreload 2\n"
   ]
  },
  {
   "cell_type": "code",
   "execution_count": 2,
   "id": "efeabc60",
   "metadata": {},
   "outputs": [],
   "source": [
    "from health_blockchain import *"
   ]
  },
  {
   "cell_type": "code",
   "execution_count": 3,
   "id": "07174d03",
   "metadata": {},
   "outputs": [
    {
     "data": {
      "text/plain": [
       "Block(signature=b'fake_sig', content_dictionary={'first_name': 'Ali', 'last_name': 'Irani'})"
      ]
     },
     "execution_count": 3,
     "metadata": {},
     "output_type": "execute_result"
    }
   ],
   "source": [
    "block_1 = Block(b'fake_sig', dict(first_name=\"Ali\", last_name=\"Irani\"))\n",
    "block_1"
   ]
  },
  {
   "cell_type": "code",
   "execution_count": 6,
   "id": "f604ed3b",
   "metadata": {},
   "outputs": [
    {
     "data": {
      "text/plain": [
       "'{\"signature\": \"ZmFrZV9zaWc=\", \"content_dictionary\": {\"first_name\": \"Ali\", \"last_name\": \"Irani\"}}'"
      ]
     },
     "execution_count": 6,
     "metadata": {},
     "output_type": "execute_result"
    }
   ],
   "source": [
    "block_1_json = block_serialize(block_1)\n",
    "block_1_json"
   ]
  },
  {
   "cell_type": "code",
   "execution_count": 7,
   "id": "fc02a547",
   "metadata": {},
   "outputs": [
    {
     "data": {
      "text/plain": [
       "Block(signature='ZmFrZV9zaWc=', content_dictionary={'first_name': 'Ali', 'last_name': 'Irani'})"
      ]
     },
     "execution_count": 7,
     "metadata": {},
     "output_type": "execute_result"
    }
   ],
   "source": [
    "block_deserialize(block_1_json)"
   ]
  }
 ],
 "metadata": {
  "kernelspec": {
   "display_name": "py_310",
   "language": "python",
   "name": "py_310"
  },
  "language_info": {
   "codemirror_mode": {
    "name": "ipython",
    "version": 3
   },
   "file_extension": ".py",
   "mimetype": "text/x-python",
   "name": "python",
   "nbconvert_exporter": "python",
   "pygments_lexer": "ipython3",
   "version": "3.10.0"
  }
 },
 "nbformat": 4,
 "nbformat_minor": 5
}
